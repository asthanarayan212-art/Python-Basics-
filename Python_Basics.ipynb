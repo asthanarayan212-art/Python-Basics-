{
  "nbformat": 4,
  "nbformat_minor": 0,
  "metadata": {
    "colab": {
      "provenance": []
    },
    "kernelspec": {
      "name": "python3",
      "display_name": "Python 3"
    },
    "language_info": {
      "name": "python"
    }
  },
  "cells": [
    {
      "cell_type": "code",
      "execution_count": null,
      "metadata": {
        "id": "mmHNpROGwLiu"
      },
      "outputs": [],
      "source": []
    },
    {
      "cell_type": "markdown",
      "source": [
        "# What is Python, and why is it popular?\n",
        "\n",
        "-Python is a high-level, interpreted programming language known for its simple syntax and readability.\n",
        "It’s popular because it is:\n",
        "Easy to learn and use\n",
        "Versatile (used in web development, data science, AI, automation, etc.)\n",
        "Supported by a large community and ecosystem of libraries\n",
        "\n",
        "*  Easy to learn and use\n",
        "*  Versatile (used in web development, data science, AI, automation, etc.)\n",
        "*  Supported by a large community and ecosystem of libraries\n",
        "\n",
        "# What is an interpreter in Python?\n",
        "\n",
        "-An interpreter executes Python code line by line, converting it into machine-level code at runtime.\n",
        "This allows for quick development, easy debugging, and dynamic typing.\n",
        "\n",
        "#What are pre-defined keywords in Python?\n",
        "\n",
        "Keywords are reserved words in Python that have specific meanings and roles in the language's syntax.\n",
        "Examples include: if, else, while etc. They cannot be used as variable names.\n",
        "\n",
        "#Can keywords be used as variable names?\n",
        "\n",
        "No. Python keywords are reserved words and cannot be used as variable names because they serve specific functions in the language.\n",
        "\n",
        "#What is mutability in Python?\n",
        "\n",
        "Mutability refers to whether an object’s state can be changed after it is created.\n",
        "Mutable objects: Can be changed (e.g., lists, dictionaries)\n",
        "Immutable objects: Cannot be changed (e.g., strings, tuples, integers)\n",
        "\n",
        "#Why are lists mutable, but tuples are immutable?\n",
        "\n",
        "Lists are designed for dynamic data where updates, additions, or deletions may be needed.\n",
        "\n",
        "Tuples are used for fixed data that shouldn't change, making them faster and safer (especially as dictionary keys).\n",
        "\n",
        "#What is the difference between == and is operators in Python?\n",
        "== compares values (e.g., 5 == 5 → True)\n",
        "\n",
        "is checks identity, i.e., whether two variables refer to the same object.\n",
        "\n",
        "#What are logical operators in Python?\n",
        "Logical operators are used to combine boolean expressions:\n",
        "\n",
        "and: True if both conditions are True\n",
        "\n",
        "or: True if at least one condition is True\n",
        "\n",
        "not: Reverses the result (True becomes False)\n",
        "\n",
        "#What is type casting in Python?\n",
        "\n",
        "Type casting is converting a variable from one data type to another, e.g., from string to integer.\n",
        "\n",
        "#What is the difference between implicit and explicit type casting?\n",
        "\n",
        "Implicit casting: Done automatically by Python (e.g., int + float → float)\n",
        "\n",
        "Explicit casting: Done manually using functions like int(), float(), str(), etc.\n",
        "\n",
        "#What is the purpose of conditional statements in Python?\n",
        "\n",
        "Conditional statements (if, elif, else) allow the program to make decisions and execute code blocks based on specific conditions.\n",
        "\n",
        "#How does the elif statement work in Python?\n",
        "\n",
        "elif (short for else if) allows checking multiple conditions after the initial if.\n",
        "\n",
        "#What is the difference between for and while loops in Python?\n",
        "for loop: Iterates over a sequence (e.g., list, range) with a known number of iterations\n",
        "\n",
        "while loop: Repeats as long as a condition is true, suitable when the number of iterations is unknown\n",
        "\n",
        "# Describe a scenario where a while loop is more suitable than a for loop\n",
        "\n",
        "while loop is used when the number of repetitions isn’t predetermined.\n",
        "\n",
        "\n",
        "\n",
        "\n",
        "\n"
      ],
      "metadata": {
        "id": "4GbsySzIxJ8V"
      }
    },
    {
      "cell_type": "markdown",
      "source": [],
      "metadata": {
        "id": "88ZWtCH-wm7x"
      }
    },
    {
      "cell_type": "code",
      "source": [
        "#Write a Python program to print \"Hello, World!\n",
        "\n",
        "print(\"Hello World\")"
      ],
      "metadata": {
        "colab": {
          "base_uri": "https://localhost:8080/"
        },
        "id": "6IoL_sVgxCKI",
        "outputId": "f4f5ee02-a465-4d11-be61-19c6dafa48ac"
      },
      "execution_count": 1,
      "outputs": [
        {
          "output_type": "stream",
          "name": "stdout",
          "text": [
            "Hello World\n"
          ]
        }
      ]
    },
    {
      "cell_type": "code",
      "source": [
        "#Write a Python program that displays your name and age?\n",
        "\n",
        "name = \"Astha\"\n",
        "age = 25\n",
        "print (f\"My name is {name} and I am {age} years old.\")"
      ],
      "metadata": {
        "colab": {
          "base_uri": "https://localhost:8080/"
        },
        "id": "YVQBwINr0J7c",
        "outputId": "2fd52b8c-ffe8-47fd-e988-cb8765300cda"
      },
      "execution_count": 7,
      "outputs": [
        {
          "output_type": "stream",
          "name": "stdout",
          "text": [
            "My name is Astha and I am 25 years old.\n"
          ]
        }
      ]
    },
    {
      "cell_type": "code",
      "source": [
        "#Write code to print all the pre-defined keywords in Python using the keyword library\n",
        "\n",
        "import keyword\n",
        "print(\"Python Keywords:\", keyword.kwlist)"
      ],
      "metadata": {
        "colab": {
          "base_uri": "https://localhost:8080/"
        },
        "id": "O8p1Lvlc0N6U",
        "outputId": "35197aec-308b-449d-d3b2-3e0b78233ba6"
      },
      "execution_count": 8,
      "outputs": [
        {
          "output_type": "stream",
          "name": "stdout",
          "text": [
            "Python Keywords: ['False', 'None', 'True', 'and', 'as', 'assert', 'async', 'await', 'break', 'class', 'continue', 'def', 'del', 'elif', 'else', 'except', 'finally', 'for', 'from', 'global', 'if', 'import', 'in', 'is', 'lambda', 'nonlocal', 'not', 'or', 'pass', 'raise', 'return', 'try', 'while', 'with', 'yield']\n"
          ]
        }
      ]
    },
    {
      "cell_type": "code",
      "source": [
        "#Write a program that checks if a given word is a Python keyword.\n",
        "\n",
        "import keyword\n",
        "\n",
        "word = input(\"Enter a word: \")\n",
        "if keyword.iskeyword(word):\n",
        "    print(f\"'{word}' is a Python keyword.\")\n",
        "else:\n",
        "    print(f\"'{word}' is not a Python keyword.\")"
      ],
      "metadata": {
        "colab": {
          "base_uri": "https://localhost:8080/"
        },
        "id": "OdvCvJqj08K4",
        "outputId": "ff6351b4-5764-42f4-f0bd-1ecb212a0f1e"
      },
      "execution_count": 11,
      "outputs": [
        {
          "output_type": "stream",
          "name": "stdout",
          "text": [
            "Enter a word: True\n",
            "'True' is a Python keyword.\n"
          ]
        }
      ]
    },
    {
      "cell_type": "code",
      "source": [
        "#Create a list and tuple in Python, and demonstrate how attempting to change an element works differently for each\n",
        "\n",
        "def modify_data(mutable_list, immutable_int):\n",
        "    mutable_list.append(100)\n",
        "    immutable_int += 10\n",
        "    print(\"Inside function:\", mutable_list, immutable_int)\n",
        "\n",
        "lst = [1, 2, 3]\n",
        "num = 5\n",
        "modify_data(lst, num)\n",
        "print(\"Outside function:\", lst, num)"
      ],
      "metadata": {
        "colab": {
          "base_uri": "https://localhost:8080/"
        },
        "id": "dV55Jhk71Of9",
        "outputId": "38eb9639-9cc2-49ee-e8f1-04e4dea3aad6"
      },
      "execution_count": 12,
      "outputs": [
        {
          "output_type": "stream",
          "name": "stdout",
          "text": [
            "Inside function: [1, 2, 3, 100] 15\n",
            "Outside function: [1, 2, 3, 100] 5\n"
          ]
        }
      ]
    },
    {
      "cell_type": "code",
      "source": [
        "#Write a program that performs basic arithmetic operations on two user-input numbers\n",
        "\n",
        "num1 = float(input(\"Enter the first number: \"))\n",
        "num2 = float(input(\"Enter the second number: \"))\n",
        "\n",
        "\n",
        "add = num1 + num2\n",
        "sub = num1 - num2\n",
        "mul = num1 * num2\n",
        "\n",
        "\n",
        "if num2 != 0:\n",
        "    div = num1 / num2\n",
        "else:\n",
        "    div = \"Undefined (cannot divide by zero)\"\n",
        "\n",
        "\n",
        "print(\"Addition:\", add)\n",
        "print(\"Subtraction:\", sub)\n",
        "print(\"Multiplication:\", mul)\n",
        "print(\"Division:\", div)"
      ],
      "metadata": {
        "colab": {
          "base_uri": "https://localhost:8080/"
        },
        "id": "3f3hssDp1xOH",
        "outputId": "6cda6617-0b2d-47eb-f805-84e889b36ae2"
      },
      "execution_count": 13,
      "outputs": [
        {
          "output_type": "stream",
          "name": "stdout",
          "text": [
            "Enter the first number: 2\n",
            "Enter the second number: 3\n",
            "Addition: 5.0\n",
            "Subtraction: -1.0\n",
            "Multiplication: 6.0\n",
            "Division: 0.6666666666666666\n"
          ]
        }
      ]
    },
    {
      "cell_type": "code",
      "source": [
        "#Write a program to demonstrate the use of logical operators.\n",
        "\n",
        "a = input(\"Enter True or False for a: \").strip().lower() == 'true'\n",
        "b = input(\"Enter True or False for b: \").strip().lower() == 'true'\n",
        "\n",
        "print(\"a and b:\", a and b)\n",
        "\n",
        "print(\"a or b:\", a or b)\n",
        "\n",
        "print(\"not a:\", not a)\n",
        "print(\"not b:\", not b)"
      ],
      "metadata": {
        "colab": {
          "base_uri": "https://localhost:8080/"
        },
        "id": "Se8krl0e2gOK",
        "outputId": "b0fcbbb1-8903-4491-c564-83daa9ed7b40"
      },
      "execution_count": 14,
      "outputs": [
        {
          "output_type": "stream",
          "name": "stdout",
          "text": [
            "Enter True or False for a: a\n",
            "Enter True or False for b: b\n",
            "a and b: False\n",
            "a or b: False\n",
            "not a: True\n",
            "not b: True\n"
          ]
        }
      ]
    },
    {
      "cell_type": "code",
      "source": [
        "  #Write a Python program to convert user input from string to integer, float, and boolean types\n",
        "\n",
        "  user_input = input(\"Enter something: \")\n",
        "\n",
        "try:\n",
        "    int_value = int(user_input)\n",
        "    print(\"Integer value:\", int_value)\n",
        "except ValueError:\n",
        "    print(\"Cannot convert to integer.\")\n",
        "\n",
        "try:\n",
        "    float_value = float(user_input)\n",
        "    print(\"Float value:\", float_value)\n",
        "except ValueError:\n",
        "    print(\"Cannot convert to float.\")\n",
        "\n",
        "\n",
        "bool_value = bool(user_input)\n",
        "print(\"Boolean value:\", bool_value)"
      ],
      "metadata": {
        "colab": {
          "base_uri": "https://localhost:8080/"
        },
        "id": "wlWyDNDm2vsn",
        "outputId": "27cba526-9162-4762-f257-0be994b83ed1"
      },
      "execution_count": 15,
      "outputs": [
        {
          "output_type": "stream",
          "name": "stdout",
          "text": [
            "Enter something: astha\n",
            "Cannot convert to integer.\n",
            "Cannot convert to float.\n",
            "Boolean value: True\n"
          ]
        }
      ]
    },
    {
      "cell_type": "code",
      "source": [
        "# Write code to demonstrate type casting with list elements.\n",
        "\n",
        "user_input = input(\"Enter something: \")\n",
        "\n",
        "\n",
        "try:\n",
        "    int_value = int(user_input)\n",
        "    print(\"Integer value:\", int_value)\n",
        "except ValueError:\n",
        "    print(\"Cannot convert to integer.\")\n",
        "\n",
        "\n",
        "try:\n",
        "    float_value = float(user_input)\n",
        "    print(\"Float value:\", float_value)\n",
        "except ValueError:\n",
        "    print(\"Cannot convert to float.\")\n",
        "\n",
        "bool_value = bool(user_input)\n",
        "print(\"Boolean value:\", bool_value)"
      ],
      "metadata": {
        "colab": {
          "base_uri": "https://localhost:8080/"
        },
        "id": "_yN0nBxk3BFC",
        "outputId": "f4636538-75d1-461d-f6da-c4cda545ab81"
      },
      "execution_count": 16,
      "outputs": [
        {
          "output_type": "stream",
          "name": "stdout",
          "text": [
            "Enter something: Hello\n",
            "Cannot convert to integer.\n",
            "Cannot convert to float.\n",
            "Boolean value: True\n"
          ]
        }
      ]
    },
    {
      "cell_type": "code",
      "source": [
        "#Write a program that checks if a number is positive, negative, or zero.\n",
        "\n",
        "num = float(input(\"Enter a number: \"))\n",
        "\n",
        "\n",
        "if num > 0:\n",
        "    print(\"The number is positive.\")\n",
        "elif num < 0:\n",
        "    print(\"The number is negative.\")\n",
        "else:\n",
        "    print(\"The number is zero.\")"
      ],
      "metadata": {
        "colab": {
          "base_uri": "https://localhost:8080/"
        },
        "id": "m50EZyDX3NE_",
        "outputId": "b2c3507b-8dc2-4520-d183-daa85974392f"
      },
      "execution_count": 17,
      "outputs": [
        {
          "output_type": "stream",
          "name": "stdout",
          "text": [
            "Enter a number: 1234\n",
            "The number is positive.\n"
          ]
        }
      ]
    },
    {
      "cell_type": "code",
      "source": [
        "# Write a for loop to print numbers from 1 to 10\n",
        "\n",
        "for i in range(1, 11):\n",
        "    print(i)\n",
        ""
      ],
      "metadata": {
        "colab": {
          "base_uri": "https://localhost:8080/"
        },
        "id": "zX8MZ8Tw3Vub",
        "outputId": "af2bef94-0b9a-45f8-e81f-00c47d270763"
      },
      "execution_count": 18,
      "outputs": [
        {
          "output_type": "stream",
          "name": "stdout",
          "text": [
            "1\n",
            "2\n",
            "3\n",
            "4\n",
            "5\n",
            "6\n",
            "7\n",
            "8\n",
            "9\n",
            "10\n"
          ]
        }
      ]
    },
    {
      "cell_type": "code",
      "source": [
        "# Write a Python program to find the sum of all even numbers between 1 and 50.\n",
        "\n",
        "total = 0\n",
        "for num in range(2, 51, 2):\n",
        "    total += num\n",
        "\n",
        "print(\"Sum of all even numbers between 1 and 50 is:\", total)"
      ],
      "metadata": {
        "colab": {
          "base_uri": "https://localhost:8080/"
        },
        "id": "GxpFhb013eBx",
        "outputId": "40aaeabb-da11-4736-ebb9-d13690d07e99"
      },
      "execution_count": 19,
      "outputs": [
        {
          "output_type": "stream",
          "name": "stdout",
          "text": [
            "Sum of all even numbers between 1 and 50 is: 650\n"
          ]
        }
      ]
    },
    {
      "cell_type": "code",
      "source": [
        "#Write a program to reverse a string using a while loop.\n",
        "\n",
        "\n",
        "text = input(\"Enter a string: \")\n",
        "\n",
        "\n",
        "reversed_text = \"\"\n",
        "index = len(text) - 1  # Start from the last character\n",
        "\n",
        "\n",
        "while index >= 0:\n",
        "    reversed_text += text[index]\n",
        "    index -= 1\n",
        "\n",
        "print(\"Reversed string:\", reversed_text)"
      ],
      "metadata": {
        "colab": {
          "base_uri": "https://localhost:8080/"
        },
        "id": "-ybQoU3p5ieq",
        "outputId": "48bdceff-d10a-4527-b146-e7f50e251f15"
      },
      "execution_count": 21,
      "outputs": [
        {
          "output_type": "stream",
          "name": "stdout",
          "text": [
            "Enter a string: 21234\n",
            "Reversed string: 43212\n"
          ]
        }
      ]
    },
    {
      "cell_type": "code",
      "source": [
        "#Write a Python program to calculate the factorial of a number provided by the user using a while loop.\n",
        "\n",
        "\n",
        "num = int(input(\"Enter a non-negative integer: \"))\n",
        "\n",
        "factorial = 1\n",
        "i = 1\n",
        "\n",
        "\n",
        "while i <= num:\n",
        "    factorial *= i\n",
        "    i += 1"
      ],
      "metadata": {
        "colab": {
          "base_uri": "https://localhost:8080/"
        },
        "id": "_rbHZGsH5qa3",
        "outputId": "e46ab4e0-0ced-4be3-f6cb-ed156286bc0b"
      },
      "execution_count": 23,
      "outputs": [
        {
          "name": "stdout",
          "output_type": "stream",
          "text": [
            "Enter a non-negative integer: 234567\n"
          ]
        }
      ]
    }
  ]
}